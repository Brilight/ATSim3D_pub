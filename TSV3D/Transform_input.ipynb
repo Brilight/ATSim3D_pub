{
 "cells": [
  {
   "cell_type": "code",
   "execution_count": 2,
   "id": "92a14898",
   "metadata": {},
   "outputs": [],
   "source": [
    "import sys\n",
    "import argparse\n",
    "import os\n",
    "import time\n",
    "import math\n",
    "import configparser\n",
    "\n",
    "import csv\n",
    "import pandas as pd\n",
    "import numpy as np\n",
    "import matplotlib.pyplot as plt\n"
   ]
  },
  {
   "cell_type": "code",
   "execution_count": 3,
   "id": "a86559e3",
   "metadata": {},
   "outputs": [],
   "source": [
    "home_path = './'\n",
    "lcfFile = home_path + \"TSV3D_lcf.csv\"\n",
    "ConfigFile = home_path + \"TSV3D.config\"\n",
    "TSVpath = home_path + 'flp_files/TSV_flp.csv'\n",
    "SimParamsFile = home_path + \"SimParms.config\",\n",
    "gridSteadyFile = home_path + \"results/trial.out\"\n",
    "lcf_df = pd.read_csv(lcfFile, lineterminator=\"\\n\")"
   ]
  },
  {
   "cell_type": "code",
   "execution_count": 15,
   "id": "225e380b",
   "metadata": {},
   "outputs": [
    {
     "data": {
      "text/plain": [
       "0      0.0001\n",
       "1      0.0001\n",
       "2      0.0001\n",
       "3      0.0001\n",
       "4      0.0001\n",
       "        ...  \n",
       "111       TSV\n",
       "112         5\n",
       "113         3\n",
       "114     1e-05\n",
       "115       TSV\n",
       "Name: X, Length: 116, dtype: object"
      ]
     },
     "execution_count": 15,
     "metadata": {},
     "output_type": "execute_result"
    }
   ],
   "source": [
    "tsv['X']"
   ]
  },
  {
   "cell_type": "code",
   "execution_count": 19,
   "id": "d4e0975a",
   "metadata": {},
   "outputs": [],
   "source": [
    "tsv = pd.read_csv(TSVpath, lineterminator=\"\\n\")\n",
    "for i in range(8):\n",
    "    for j in range(8):\n",
    "        tsv.loc[i*10+j,\"TSVIndex\"] = i*10+j\n",
    "        tsv.loc[i*10+j,\"X\"] = i*1e-4+5e-4\n",
    "        tsv.loc[i*10+j,\"Y\"] = j*1e-4+5e-4\n",
    "tsv[\"BotLayer\"] = 5\n",
    "tsv[\"TopLayer\"] = 3\n",
    "tsv[\"Radius (m)\"] = 1.5e-5\n",
    "tsv[\"Label\"] = 'TSV'\n",
    "tsv.to_csv(TSVpath, index=False)"
   ]
  },
  {
   "cell_type": "code",
   "execution_count": 1,
   "id": "18057fca",
   "metadata": {},
   "outputs": [
    {
     "ename": "NameError",
     "evalue": "name 'lcf_df' is not defined",
     "output_type": "error",
     "traceback": [
      "\u001b[0;31m---------------------------------------------------------------------------\u001b[0m",
      "\u001b[0;31mNameError\u001b[0m                                 Traceback (most recent call last)",
      "\u001b[1;32m/Users/qipanwang/Private/Research/Thermal Simu/AT-Sim/ATSim/M3D/Transform_input.ipynb 单元格 3\u001b[0m in \u001b[0;36m<module>\u001b[0;34m\u001b[0m\n\u001b[0;32m----> <a href='vscode-notebook-cell:/Users/qipanwang/Private/Research/Thermal%20Simu/AT-Sim/ATSim/M3D/Transform_input.ipynb#W2sZmlsZQ%3D%3D?line=0'>1</a>\u001b[0m \u001b[39mfor\u001b[39;00m i \u001b[39min\u001b[39;00m \u001b[39mrange\u001b[39m(lcf_df\u001b[39m.\u001b[39mshape[\u001b[39m0\u001b[39m]):\n\u001b[1;32m      <a href='vscode-notebook-cell:/Users/qipanwang/Private/Research/Thermal%20Simu/AT-Sim/ATSim/M3D/Transform_input.ipynb#W2sZmlsZQ%3D%3D?line=1'>2</a>\u001b[0m     \u001b[39mif\u001b[39;00m lcf_df[\u001b[39m\"\u001b[39m\u001b[39mMain_compo\u001b[39m\u001b[39m\"\u001b[39m][i]\u001b[39m==\u001b[39m\u001b[39m\"\u001b[39m\u001b[39mDiel\u001b[39m\u001b[39m\"\u001b[39m:\n\u001b[1;32m      <a href='vscode-notebook-cell:/Users/qipanwang/Private/Research/Thermal%20Simu/AT-Sim/ATSim/M3D/Transform_input.ipynb#W2sZmlsZQ%3D%3D?line=2'>3</a>\u001b[0m         lcf_df\u001b[39m.\u001b[39mloc[i,\u001b[39m\"\u001b[39m\u001b[39mClip_num_x\u001b[39m\u001b[39m\"\u001b[39m] \u001b[39m=\u001b[39m \u001b[39mint\u001b[39m(\u001b[39m4\u001b[39m)\n",
      "\u001b[0;31mNameError\u001b[0m: name 'lcf_df' is not defined"
     ]
    }
   ],
   "source": [
    "for i in range(lcf_df.shape[0]):\n",
    "    if lcf_df[\"Main_compo\"][i]==\"Diel\":\n",
    "        lcf_df.loc[i,\"Clip_num_x\"] = int(4)\n",
    "        lcf_df.loc[i,\"Clip_num_y\"] = int(4)\n",
    "        lcf_df.loc[i,\"Clip_num_z\"] = int(1)\n",
    "    elif lcf_df[\"Main_compo\"][i]==\"Metal\":\n",
    "        lcf_df.loc[i,\"Clip_num_x\"] = int(4)\n",
    "        lcf_df.loc[i,\"Clip_num_y\"] = int(4)\n",
    "        lcf_df.loc[i,\"Clip_num_z\"] = int(2)\n",
    "lcf_df[\"Clip_num_x\"] = lcf_df[\"Clip_num_x\"].astype('int32')\n",
    "lcf_df[\"Clip_num_y\"] = lcf_df[\"Clip_num_y\"].astype('int32')\n",
    "lcf_df[\"Clip_num_z\"] = lcf_df[\"Clip_num_z\"].astype('int32')\n",
    "lcf_df.to_csv(lcfFile, index=False)"
   ]
  },
  {
   "cell_type": "code",
   "execution_count": 9,
   "id": "582c2607",
   "metadata": {},
   "outputs": [],
   "source": [
    "for i in range(lcf_df['FloorplanFile'].shape[0]):\n",
    "    flp_df = pd.read_csv(lcf_df['FloorplanFile'][i])\n",
    "    flp_df = flp_df.reindex(columns=['UnitName', 'X', 'Y', 'Z', 'Length (m)', \n",
    "                                     'Width (m)', 'Thickness (m)', 'ConfigFile', 'Label'])\n",
    "    flp_df['Z'] = 0\n",
    "    flp_df['Thickness (m)'] = lcf_df.iloc[i][\"Thickness (m)\"]\n",
    "    flp_df.to_csv(lcf_df['FloorplanFile'][i], index=False)"
   ]
  },
  {
   "cell_type": "code",
   "execution_count": 17,
   "id": "c4328da2",
   "metadata": {},
   "outputs": [
    {
     "data": {
      "text/plain": [
       "5000"
      ]
     },
     "execution_count": 17,
     "metadata": {},
     "output_type": "execute_result"
    }
   ],
   "source": []
  },
  {
   "cell_type": "code",
   "execution_count": 19,
   "id": "ca0e64fc",
   "metadata": {},
   "outputs": [],
   "source": [
    "Power_origin = [\"./ptrace_files/M3D_tier1_ptrace-Copy1.csv\", \"./ptrace_files/M3D_tier0_ptrace-Copy1.csv\"]\n",
    "Fileidx = [23,33]\n",
    "for idx in range(2):\n",
    "    power_df = pd.read_csv(Power_origin[idx])\n",
    "    power_AT = power_df.reindex(columns=['UnitName', 'Power_dyn', 'Power_leak'])\n",
    "    power_AT['UnitName'] = power_df['UnitName']\n",
    "    power_AT['Power_dyn'] = power_df['Power'] * 1 #(np.random.rand(power_df['Power'].size)+0.5)\n",
    "    power_AT['Power_leak'] = power_df['Power'] * 0# * (np.random.randint(10)+10)/10\n",
    "    power_AT.to_csv(lcf_df['PowerFile'][Fileidx[idx]], index=False)"
   ]
  },
  {
   "cell_type": "code",
   "execution_count": 34,
   "id": "463e5957",
   "metadata": {
    "collapsed": true
   },
   "outputs": [
    {
     "name": "stdout",
     "output_type": "stream",
     "text": [
      "../M3D/flp_files/M3D_10mm_tier1_flp.csv ../M3D/ptrace_files/M3D_tier1_ptrace.csv\n",
      "0         T1_Unit_0_0\n",
      "1         T1_Unit_0_1\n",
      "2         T1_Unit_0_2\n",
      "3         T1_Unit_0_3\n",
      "4         T1_Unit_0_4\n",
      "            ...      \n",
      "2495    T1_Unit_49_45\n",
      "2496    T1_Unit_49_46\n",
      "2497    T1_Unit_49_47\n",
      "2498    T1_Unit_49_48\n",
      "2499    T1_Unit_49_49\n",
      "Name: UnitName, Length: 2500, dtype: object 0         T0_Unit_0_0\n",
      "1         T0_Unit_0_1\n",
      "2         T0_Unit_0_2\n",
      "3         T0_Unit_0_3\n",
      "4         T0_Unit_0_4\n",
      "            ...      \n",
      "2495    T0_Unit_49_45\n",
      "2496    T0_Unit_49_46\n",
      "2497    T0_Unit_49_47\n",
      "2498    T0_Unit_49_48\n",
      "2499    T0_Unit_49_49\n",
      "Name: UnitName, Length: 2500, dtype: object\n",
      "[False]\n"
     ]
    }
   ],
   "source": [
    "print(lcf_df['FloorplanFile'][22], lcf_df['PowerFile'][22])\n",
    "flp_df = pd.read_csv(lcf_df['FloorplanFile'][22])\n",
    "power_df = pd.read_csv(lcf_df['PowerFile'][22])\n",
    "name = flp_df['UnitName']\n",
    "print(flp_df['UnitName'], power_df['UnitName'])\n",
    "x = flp_df['UnitName']==power_df[\"UnitName\"]\n",
    "print(x.unique())"
   ]
  },
  {
   "cell_type": "code",
   "execution_count": 19,
   "id": "b9994889",
   "metadata": {},
   "outputs": [
    {
     "data": {
      "image/png": "[encoded data removed]",
      "text/plain": [
       "<Figure size 640x480 with 1 Axes>"
      ]
     },
     "metadata": {},
     "output_type": "display_data"
    }
   ],
   "source": [
    "flp_df = pd.read_csv(lcf_df['FloorplanFile'][1])\n",
    "fig, ax = plt.subplots()\n",
    "for i in range(flp_df.shape[0]):\n",
    "    name = flp_df.iloc[i]['UnitName']\n",
    "    x, y = flp_df.iloc[i][\"X\"], flp_df.iloc[i][\"Y\"]\n",
    "    length, width = flp_df.iloc[i][\"Length (m)\"], flp_df.iloc[i][\"Width (m)\"]\n",
    "    rect = plt.Rectangle((x, y), length, width, linewidth=0.5, edgecolor='k', facecolor='none')\n",
    "    ax.add_patch(rect)\n",
    "    #ax.text(x + 0.5*length, y+ 0.5 * width, i, ha='center', va='center')\n",
    "\n",
    "ax.set_xlim(0, 0.01); ax.set_ylim(0, 0.01)\n",
    "#ax.set_xticks(range(12))\n",
    "#ax.set_yticks(range(7))\n",
    "ax.set_xticklabels([])\n",
    "ax.set_yticklabels([])\n",
    "\n",
    "# 显示图形\n",
    "plt.show()\n"
   ]
  }
 ],
 "metadata": {
  "kernelspec": {
   "display_name": "Python 3",
   "language": "python",
   "name": "python3"
  },
  "language_info": {
   "codemirror_mode": {
    "name": "ipython",
    "version": 3
   },
   "file_extension": ".py",
   "mimetype": "text/x-python",
   "name": "python",
   "nbconvert_exporter": "python",
   "pygments_lexer": "ipython3",
   "version": "3.8.9"
  }
 },
 "nbformat": 4,
 "nbformat_minor": 5
}
